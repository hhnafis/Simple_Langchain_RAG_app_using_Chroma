{
  "nbformat": 4,
  "nbformat_minor": 0,
  "metadata": {
    "colab": {
      "provenance": [],
      "authorship_tag": "ABX9TyN0ab7YP0h+JmSjEO7Mm2Vt",
      "include_colab_link": true
    },
    "kernelspec": {
      "name": "python3",
      "display_name": "Python 3"
    },
    "language_info": {
      "name": "python"
    }
  },
  "cells": [
    {
      "cell_type": "markdown",
      "metadata": {
        "id": "view-in-github",
        "colab_type": "text"
      },
      "source": [
        "<a href=\"https://colab.research.google.com/github/hhnafis/Simple_Langchain_RAG_app_using_Chroma/blob/main/Getting_started_with_ChromaDB.ipynb\" target=\"_parent\"><img src=\"https://colab.research.google.com/assets/colab-badge.svg\" alt=\"Open In Colab\"/></a>"
      ]
    },
    {
      "cell_type": "markdown",
      "source": [
        "###Install the langchain-chroma integration package."
      ],
      "metadata": {
        "id": "lVhCzzQBmhQh"
      }
    },
    {
      "cell_type": "code",
      "execution_count": 12,
      "metadata": {
        "id": "e23ZKscOmTVy"
      },
      "outputs": [],
      "source": [
        "pip install -Uq langchain-chroma langchain-google-genai"
      ]
    },
    {
      "cell_type": "markdown",
      "source": [
        "##Setting up the environment variable"
      ],
      "metadata": {
        "id": "PdHoXEYSm57J"
      }
    },
    {
      "cell_type": "markdown",
      "source": [],
      "metadata": {
        "id": "ifLFXUePvncV"
      }
    },
    {
      "cell_type": "code",
      "source": [
        "from langchain_google_genai import GoogleGenerativeAIEmbeddings\n",
        "from google.colab import userdata\n",
        "\n",
        "import os\n",
        "os.environ['GOOGLE_API_KEY'] = userdata.get(\"GOOGLE_API_KEY\")\n",
        "embeddings = GoogleGenerativeAIEmbeddings(model=\"models/embedding-001\")"
      ],
      "metadata": {
        "id": "fAKJK9-_51AJ"
      },
      "execution_count": 16,
      "outputs": []
    },
    {
      "cell_type": "code",
      "source": [
        "!pip install -Uq pypdf\n",
        "from langchain.text_splitter import RecursiveCharacterTextSplitter\n",
        "from langchain.document_loaders import PyPDFLoader\n",
        "\n",
        "loader = PyPDFLoader(\"/content/AI_applications.pdf\")\n",
        "documents = loader.load()\n",
        "text_splitter = RecursiveCharacterTextSplitter(chunk_size=500, chunk_overlap=10)\n",
        "docs = text_splitter.split_documents(documents)\n",
        "# print(docs)\n",
        "\n",
        "\n",
        "for doc in docs:\n",
        "  doc.metadata[\"source\"] = \"AI_applications.pdf\"\n",
        "\n",
        "\n"
      ],
      "metadata": {
        "id": "DQatEAbWu1NV"
      },
      "execution_count": 42,
      "outputs": []
    },
    {
      "cell_type": "code",
      "source": [
        "from langchain.vectorstores import Chroma\n",
        "\n",
        "vector_store = Chroma(\n",
        "    collection_name=\"AI_introduction\",\n",
        "    embedding_function=embeddings,\n",
        "    persist_directory=\"./chroma_langchain_db\",  # Where to save data locally, remove if not necessary\n",
        ")\n",
        "\n",
        "from uuid import uuid4\n",
        "from langchain_core.documents import Document\n",
        "\n",
        "# Iterating through the split documents and creating individual Document objects\n",
        "for i, doc in enumerate(docs):\n",
        "    document = Document(page_content=doc.page_content, metadata={\"source\": \"AI_applications.pdf\"})\n",
        "    uuid = str(uuid4())  # Generated a unique ID for each document\n",
        "    vector_store.add_documents(documents=[document], ids=[uuid]) # Added document to Chroma"
      ],
      "metadata": {
        "id": "KmHVa-Tk6tt6"
      },
      "execution_count": 43,
      "outputs": []
    },
    {
      "cell_type": "code",
      "source": [
        "#setup the retriever\n",
        "results = vector_store.similarity_search(\n",
        "    \"What is Artifial Intelligence?\",\n",
        "    k=1,\n",
        "    filter={\"source\": \"AI_applications.pdf\"}\n",
        ")\n",
        "for res in results:\n",
        "    print(f\"{res.page_content} [{res.metadata}]\")"
      ],
      "metadata": {
        "colab": {
          "base_uri": "https://localhost:8080/"
        },
        "id": "uKDUj9N3-eLi",
        "outputId": "2d31106e-0a4b-444d-93fe-ffd994edde2c"
      },
      "execution_count": 44,
      "outputs": [
        {
          "output_type": "stream",
          "name": "stdout",
          "text": [
            "It is the science and engineering of making intelligent machines, especially intelligent computer programs. It \n",
            "is related to the similar task of using computers to understand human intelligence, but AI does not have to \n",
            "confine itself to methods that are biologically observable. While no co nsensual definition of Artificial \n",
            "Intelligence (AI) exists, AI is broadly characterized as the study of computations that allow for perception, [{'source': 'AI_applications.pdf'}]\n"
          ]
        }
      ]
    },
    {
      "cell_type": "code",
      "source": [
        "from langchain_google_genai import ChatGoogleGenerativeAI\n",
        "\n",
        "llm = ChatGoogleGenerativeAI(\n",
        "    model=\"gemini-1.5-flash\",\n",
        "    temperature=0,\n",
        "    max_tokens=None,\n",
        "    timeout=None,\n",
        "    max_retries=2,\n",
        "    verbose=True,\n",
        ")"
      ],
      "metadata": {
        "id": "DSqIamXM_xl_"
      },
      "execution_count": 45,
      "outputs": []
    },
    {
      "cell_type": "code",
      "source": [
        "def answer_to_user(query: str):\n",
        "    # Vector Search\n",
        "    vector_results = vector_store.similarity_search(query, k=1)\n",
        "\n",
        "\n",
        "    # Pass the model vector search + user query\n",
        "    final_answer = llm.invoke(\n",
        "        f\"ANSWER THIS USER QUERY: {query}, Here are some references {vector_results}\"\n",
        "    )\n",
        "\n",
        "\n",
        "    return final_answer"
      ],
      "metadata": {
        "id": "m1iR4qqSAzxM"
      },
      "execution_count": 46,
      "outputs": []
    },
    {
      "cell_type": "code",
      "source": [
        "answer = answer_to_user(\"What is the  artificial intelligence?\")\n",
        "answer.content"
      ],
      "metadata": {
        "colab": {
          "base_uri": "https://localhost:8080/",
          "height": 87
        },
        "id": "UJPhVtgiA5s5",
        "outputId": "11a22196-0361-4d20-e819-6e02d6b348c1"
      },
      "execution_count": 47,
      "outputs": [
        {
          "output_type": "execute_result",
          "data": {
            "text/plain": [
              "'Based on the provided text, Artificial Intelligence (AI) is a system that possesses thinking power and basic skills such as learning, reasoning, self-improvement (through experience), language understanding, and problem-solving.  The document highlights its use in many fields, particularly technology, and its projected job creation potential.'"
            ],
            "application/vnd.google.colaboratory.intrinsic+json": {
              "type": "string"
            }
          },
          "metadata": {},
          "execution_count": 47
        }
      ]
    },
    {
      "cell_type": "code",
      "source": [
        "# prompt: deploy this RAG app as an API using fast api\n",
        "!pip install uvicorn\n",
        "!pip install fastapi\n",
        "from fastapi import FastAPI, HTTPException\n",
        "from pydantic import BaseModel\n",
        "from langchain_google_genai import GoogleGenerativeAIEmbeddings\n",
        "from google.colab import userdata\n",
        "import os\n",
        "from langchain.text_splitter import RecursiveCharacterTextSplitter\n",
        "from langchain.document_loaders import PyPDFLoader\n",
        "from langchain.vectorstores import Chroma\n",
        "from uuid import uuid4\n",
        "from langchain_core.documents import Document\n",
        "from langchain_google_genai import ChatGoogleGenerativeAI\n",
        "\n",
        "# Install necessary libraries (only needed once)\n",
        "# !pip install -Uq fastapi uvicorn pypdf langchain-chroma langchain-google-genai\n",
        "\n",
        "app = FastAPI()\n",
        "\n",
        "# --- (Existing code from the original notebook) ---\n",
        "os.environ['GOOGLE_API_KEY'] = userdata.get(\"GOOGLE_API_KEY\")  # Replace with your actual key retrieval method\n",
        "embeddings = GoogleGenerativeAIEmbeddings(model=\"models/embedding-001\")\n",
        "\n",
        "loader = PyPDFLoader(\"/content/AI_applications.pdf\")  # Ensure the file path is correct\n",
        "documents = loader.load()\n",
        "text_splitter = RecursiveCharacterTextSplitter(chunk_size=500, chunk_overlap=10)\n",
        "docs = text_splitter.split_documents(documents)\n",
        "\n",
        "for doc in docs:\n",
        "    doc.metadata[\"source\"] = \"AI_applications.pdf\"\n",
        "\n",
        "vector_store = Chroma(\n",
        "    collection_name=\"AI_introduction\",\n",
        "    embedding_function=embeddings,\n",
        "    persist_directory=\"./chroma_langchain_db\",\n",
        ")\n",
        "\n",
        "for i, doc in enumerate(docs):\n",
        "    document = Document(page_content=doc.page_content, metadata={\"source\": \"AI_applications.pdf\"})\n",
        "    uuid = str(uuid4())\n",
        "    vector_store.add_documents(documents=[document], ids=[uuid])\n",
        "\n",
        "llm = ChatGoogleGenerativeAI(\n",
        "    model=\"gemini-1.5-flash\",\n",
        "    temperature=0,\n",
        "    max_tokens=None,\n",
        "    timeout=None,\n",
        "    max_retries=2,\n",
        "    verbose=True,\n",
        ")\n",
        "# --- End of existing code ---\n",
        "\n",
        "def answer_to_user(query: str):\n",
        "    vector_results = vector_store.similarity_search(query, k=1)\n",
        "    final_answer = llm.invoke(\n",
        "        f\"ANSWER THIS USER QUERY: {query}, Here are some references {vector_results}\"\n",
        "    )\n",
        "    return final_answer.content\n",
        "\n",
        "\n",
        "class Query(BaseModel):\n",
        "    query: str\n",
        "\n",
        "\n",
        "@app.post(\"/query/\")\n",
        "async def query_endpoint(query_data: Query):\n",
        "    try:\n",
        "      response = answer_to_user(query_data.query)\n",
        "      return {\"response\": response}\n",
        "    except Exception as e:\n",
        "        raise HTTPException(status_code=500, detail=str(e))\n",
        "\n",
        "# If you are running this in colab,  you may need to install uvicorn:\n",
        "# !pip install uvicorn\n",
        "\n",
        "# To run the server:\n",
        "# import uvicorn\n",
        "# uvicorn main:app --reload  # Replace main with the name of your Python file if different"
      ],
      "metadata": {
        "colab": {
          "base_uri": "https://localhost:8080/"
        },
        "id": "7Wq4SmilBfNi",
        "outputId": "b1d46cef-ae09-4032-b170-873f1570b392"
      },
      "execution_count": 48,
      "outputs": [
        {
          "output_type": "stream",
          "name": "stdout",
          "text": [
            "Requirement already satisfied: uvicorn in /usr/local/lib/python3.11/dist-packages (0.34.0)\n",
            "Requirement already satisfied: click>=7.0 in /usr/local/lib/python3.11/dist-packages (from uvicorn) (8.1.8)\n",
            "Requirement already satisfied: h11>=0.8 in /usr/local/lib/python3.11/dist-packages (from uvicorn) (0.14.0)\n",
            "Requirement already satisfied: fastapi in /usr/local/lib/python3.11/dist-packages (0.115.6)\n",
            "Requirement already satisfied: starlette<0.42.0,>=0.40.0 in /usr/local/lib/python3.11/dist-packages (from fastapi) (0.41.3)\n",
            "Requirement already satisfied: pydantic!=1.8,!=1.8.1,!=2.0.0,!=2.0.1,!=2.1.0,<3.0.0,>=1.7.4 in /usr/local/lib/python3.11/dist-packages (from fastapi) (2.9.2)\n",
            "Requirement already satisfied: typing-extensions>=4.8.0 in /usr/local/lib/python3.11/dist-packages (from fastapi) (4.12.2)\n",
            "Requirement already satisfied: annotated-types>=0.6.0 in /usr/local/lib/python3.11/dist-packages (from pydantic!=1.8,!=1.8.1,!=2.0.0,!=2.0.1,!=2.1.0,<3.0.0,>=1.7.4->fastapi) (0.7.0)\n",
            "Requirement already satisfied: pydantic-core==2.23.4 in /usr/local/lib/python3.11/dist-packages (from pydantic!=1.8,!=1.8.1,!=2.0.0,!=2.0.1,!=2.1.0,<3.0.0,>=1.7.4->fastapi) (2.23.4)\n",
            "Requirement already satisfied: anyio<5,>=3.4.0 in /usr/local/lib/python3.11/dist-packages (from starlette<0.42.0,>=0.40.0->fastapi) (3.7.1)\n",
            "Requirement already satisfied: idna>=2.8 in /usr/local/lib/python3.11/dist-packages (from anyio<5,>=3.4.0->starlette<0.42.0,>=0.40.0->fastapi) (3.10)\n",
            "Requirement already satisfied: sniffio>=1.1 in /usr/local/lib/python3.11/dist-packages (from anyio<5,>=3.4.0->starlette<0.42.0,>=0.40.0->fastapi) (1.3.1)\n"
          ]
        }
      ]
    },
    {
      "cell_type": "code",
      "source": [
        "test_query = \"What is AI?\"\n",
        "test_answer = answer_to_user(test_query)\n",
        "\n",
        "# Print the question and answer in the desired format\n",
        "print(f\"Question:\\n{test_query}\\n\\nResponse (Generated by Gemini):\\n\\\"{test_answer}\\\"\")"
      ],
      "metadata": {
        "colab": {
          "base_uri": "https://localhost:8080/"
        },
        "id": "sbbylZAjCW9D",
        "outputId": "b5a99023-97a9-4ad9-8409-75f58739e568"
      },
      "execution_count": 51,
      "outputs": [
        {
          "output_type": "stream",
          "name": "stdout",
          "text": [
            "Question:\n",
            "What is AI?\n",
            "\n",
            "Response (Generated by Gemini):\n",
            "\"Based on the provided text from `AI_applications.pdf`, Artificial Intelligence (AI) is the science and engineering of creating intelligent machines, primarily intelligent computer programs.  While there's no single, universally agreed-upon definition, AI generally involves studying computations that enable perception.  It's related to using computers to understand human intelligence, but AI isn't limited to methods found in biological systems.\"\n"
          ]
        }
      ]
    }
  ]
}